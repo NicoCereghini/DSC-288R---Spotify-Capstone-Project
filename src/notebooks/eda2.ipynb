{
 "cells": [
  {
   "cell_type": "code",
   "execution_count": 14,
   "id": "73938e1f-115d-47b4-a7af-c3f00431ac6f",
   "metadata": {},
   "outputs": [
    {
     "ename": "ModuleNotFoundError",
     "evalue": "No module named 'dataset'",
     "output_type": "error",
     "traceback": [
      "\u001b[0;31m---------------------------------------------------------------------------\u001b[0m",
      "\u001b[0;31mModuleNotFoundError\u001b[0m                       Traceback (most recent call last)",
      "Cell \u001b[0;32mIn[14], line 5\u001b[0m\n\u001b[1;32m      3\u001b[0m \u001b[38;5;28;01mimport\u001b[39;00m \u001b[38;5;21;01mmatplotlib\u001b[39;00m\u001b[38;5;21;01m.\u001b[39;00m\u001b[38;5;21;01mpyplot\u001b[39;00m \u001b[38;5;28;01mas\u001b[39;00m \u001b[38;5;21;01mplt\u001b[39;00m\n\u001b[1;32m      4\u001b[0m \u001b[38;5;28;01mimport\u001b[39;00m \u001b[38;5;21;01mnumpy\u001b[39;00m \u001b[38;5;28;01mas\u001b[39;00m \u001b[38;5;21;01mnp\u001b[39;00m\n\u001b[0;32m----> 5\u001b[0m \u001b[38;5;28;01mfrom\u001b[39;00m \u001b[38;5;21;01mdataset\u001b[39;00m\u001b[38;5;21;01m.\u001b[39;00m\u001b[38;5;21;01mconnection\u001b[39;00m \u001b[38;5;28;01mimport\u001b[39;00m connect_to_spotify_dataset\n\u001b[1;32m      6\u001b[0m \u001b[38;5;28;01mfrom\u001b[39;00m \u001b[38;5;21;01mdataset\u001b[39;00m\u001b[38;5;21;01m.\u001b[39;00m\u001b[38;5;21;01mconnection\u001b[39;00m \u001b[38;5;28;01mimport\u001b[39;00m select, delete, add_columns, batch_update\n",
      "\u001b[0;31mModuleNotFoundError\u001b[0m: No module named 'dataset'"
     ]
    }
   ],
   "source": [
    "import pandas as pd\n",
    "import seaborn as sns\n",
    "import matplotlib.pyplot as plt\n",
    "import numpy as np\n",
    "from dataset.connection import connect_to_spotify_dataset\n",
    "from dataset.connection import select, delete, add_columns, batch_update"
   ]
  },
  {
   "cell_type": "code",
   "execution_count": null,
   "id": "5abf7b2d-cdb3-47f6-b85c-581e4b5a45f2",
   "metadata": {},
   "outputs": [],
   "source": [
    "connection = connect_to_spotify_dataset()\n",
    "if not connection:\n",
    "    print(\"Connection Error\")"
   ]
  },
  {
   "cell_type": "code",
   "execution_count": null,
   "id": "4738acf6-0f87-43b4-a379-dce41dd5291f",
   "metadata": {},
   "outputs": [],
   "source": [
    "tds = select(connection, \"SELECT * FROM track_data\") \n",
    "columns = [\"id\", \"name\", \"popularity\", \"duration_ms\", \"explicit\", \"artists\", \"id_artists\", \"release_date\",\n",
    "\"danceability\", \"energy\", \"key\", \"loudness\", \"mode\", \"speechiness\", \"acousticness\", \n",
    "\"instrumentalness\", \"liveness\", \"valence\", \"tempo\", \"time_signature\"]\n",
    "    \n",
    "# Create the DataFrame\n",
    "df = pd.DataFrame(tds, columns=columns)\n",
    "    \n",
    "# Remove tracks with durations longer than 20 min - ~1000 tracks removed\n",
    "df2 = df[df[\"duration_ms\"] <= 20 * 60 * 1000]\n",
    "    \n",
    "#Convert the artist column to a type that allows for similarity checks in dedup process\n",
    "df2['artists'] = df2['artists'].apply(tuple)\n",
    "df_deduplicated = df2.drop_duplicates(subset=['name', 'artists'], keep='first')\n",
    "    \n",
    "# Left Anti-join: Get rows in df that are NOT in df_deduplicated i.e. the dupes and outliers\n",
    "df_duplicates = df.merge(df_deduplicated, on=[\"name\", \"artists\"], how=\"left\", indicator=True)\n",
    "\n",
    "df_to_delete = df_duplicates[df_duplicates[\"_merge\"] == \"left_only\"][[\"id\"]]\n",
    "    \n",
    "delete_statements = [f\"DELETE FROM track_data WHERE id = '{row['id']}';\" for _, row in df_to_delete.iterrows()]\n",
    "    \n",
    "# Loop through each delete statement and execute it\n",
    "for stmt in delete_statements:\n",
    "    delete(connection, stmt)\n",
    "    break"
   ]
  },
  {
   "cell_type": "code",
   "execution_count": null,
   "id": "caff2166-5033-44da-a7d0-e944e8071428",
   "metadata": {},
   "outputs": [],
   "source": [
    "    # Decade Binning\n",
    "df_deduplicated[\"release_date\"] = pd.to_datetime(df_deduplicated[\"release_date\"], errors=\"coerce\")\n",
    "df_deduplicated[\"release_year\"] = df_deduplicated[\"release_date\"].dt.year\n",
    "df_deduplicated[\"decade\"] = (df_deduplicated[\"release_year\"] // 10) * 10\n",
    "    \n",
    "# Combined feature index creation\n",
    "df_deduplicated[\"mood_index\"] = 0.5 * df_deduplicated[\"valence\"] + 0.3 * df_deduplicated[\"danceability\"] + 0.2 * df_deduplicated[\"energy\"]\n",
    "df_deduplicated[\"emotion_index\"] = 0.4 * df_deduplicated[\"valence\"] + 0.3 * df_deduplicated[\"energy\"] + 0.3 * df_deduplicated[\"loudness\"].abs()\n",
    "df_deduplicated[\"party_index\"] = 0.5 * df_deduplicated[\"danceability\"] + 0.5 * df_deduplicated[\"energy\"]\n",
    "df_deduplicated[\"chill_index\"] = 0.6 * df_deduplicated[\"acousticness\"] + 0.4 * (1 - df_deduplicated[\"energy\"])\n",
    "\n",
    "# Add new columns to the PostgreSQL table\n",
    "add_columns_query = \"\"\"\n",
    "ALTER TABLE your_table \n",
    "ADD COLUMN IF NOT EXISTS decade INT,\n",
    "ADD COLUMN IF NOT EXISTS mood_index FLOAT,\n",
    "ADD COLUMN IF NOT EXISTS emotion_index FLOAT,\n",
    "ADD COLUMN IF NOT EXISTS party_index FLOAT,\n",
    "ADD COLUMN IF NOT EXISTS chill_index FLOAT;\n",
    "\"\"\"\n",
    "\n",
    "# Prepare batch update query\n",
    "update_query = \"\"\"\n",
    "    UPDATE your_table\n",
    "    SET \n",
    "        decade = %s,\n",
    "        mood_index = %s,\n",
    "        emotion_index = %s,\n",
    "        party_index = %s,\n",
    "        chill_index = %s\n",
    "    WHERE id = %s;\n",
    "\"\"\"\n",
    "\n",
    "# Create list of tuples for batch update\n",
    "update_values = df_deduplicated[[\"decade\", \"mood_index\", \"emotion_index\", \"party_index\", \"chill_index\", \"id\"]].values.tolist()\n",
    "batch_update(connection,update_query,update_values)\n",
    "    "
   ]
  }
 ],
 "metadata": {
  "kernelspec": {
   "display_name": "Python 3 (ipykernel)",
   "language": "python",
   "name": "python3"
  },
  "language_info": {
   "codemirror_mode": {
    "name": "ipython",
    "version": 3
   },
   "file_extension": ".py",
   "mimetype": "text/x-python",
   "name": "python",
   "nbconvert_exporter": "python",
   "pygments_lexer": "ipython3",
   "version": "3.12.0"
  }
 },
 "nbformat": 4,
 "nbformat_minor": 5
}
