{
 "cells": [
  {
   "cell_type": "markdown",
   "metadata": {},
   "source": [
    "Baseline Clustering"
   ]
  },
  {
   "cell_type": "code",
   "execution_count": 1,
   "metadata": {},
   "outputs": [],
   "source": [
    "import sys\n",
    "from pathlib import Path\n",
    "import pandas as pd\n",
    "import seaborn as sns\n",
    "import matplotlib.pyplot as plt\n",
    "import numpy as np\n",
    "import psycopg2.extras\n",
    "\n",
    "root_path = Path().resolve().parent.parent\n",
    "sys.path.append(str(root_path))\n",
    "\n",
    "from src.dataset.connection import connect_to_spotify_dataset\n",
    "from src.dataset.connection import select\n",
    "\n",
    "from sklearn.cluster import KMeans\n",
    "from sklearn.preprocessing import StandardScaler\n",
    "\n",
    "import torch\n",
    "import torch.nn.functional as F"
   ]
  },
  {
   "cell_type": "code",
   "execution_count": 2,
   "metadata": {},
   "outputs": [
    {
     "name": "stdout",
     "output_type": "stream",
     "text": [
      "Connection successful\n",
      "Connection closed.\n"
     ]
    }
   ],
   "source": [
    "connection = connect_to_spotify_dataset() # Add db Password\n",
    "if not connection:\n",
    "    print(\"Connection Error\")\n",
    "tds = select(connection, \"SELECT * FROM track_data\") "
   ]
  },
  {
   "cell_type": "code",
   "execution_count": 3,
   "metadata": {},
   "outputs": [
    {
     "name": "stdout",
     "output_type": "stream",
     "text": [
      "id                   object\n",
      "name                 object\n",
      "popularity            int64\n",
      "duration_ms           int64\n",
      "explicit               bool\n",
      "artists              object\n",
      "id_artists           object\n",
      "release_date         object\n",
      "danceability        float64\n",
      "energy              float64\n",
      "key                   int64\n",
      "loudness            float64\n",
      "mode                   bool\n",
      "speechiness         float64\n",
      "acousticness        float64\n",
      "instrumentalness    float64\n",
      "liveness            float64\n",
      "valence             float64\n",
      "tempo               float64\n",
      "time_signature        int64\n",
      "decade                int64\n",
      "mood_index          float64\n",
      "emotion_index       float64\n",
      "party_index         float64\n",
      "chill_index         float64\n",
      "dtype: object\n"
     ]
    },
    {
     "data": {
      "text/html": [
       "<div>\n",
       "<style scoped>\n",
       "    .dataframe tbody tr th:only-of-type {\n",
       "        vertical-align: middle;\n",
       "    }\n",
       "\n",
       "    .dataframe tbody tr th {\n",
       "        vertical-align: top;\n",
       "    }\n",
       "\n",
       "    .dataframe thead th {\n",
       "        text-align: right;\n",
       "    }\n",
       "</style>\n",
       "<table border=\"1\" class=\"dataframe\">\n",
       "  <thead>\n",
       "    <tr style=\"text-align: right;\">\n",
       "      <th></th>\n",
       "      <th>id</th>\n",
       "      <th>name</th>\n",
       "      <th>popularity</th>\n",
       "      <th>duration_ms</th>\n",
       "      <th>explicit</th>\n",
       "      <th>artists</th>\n",
       "      <th>id_artists</th>\n",
       "      <th>release_date</th>\n",
       "      <th>danceability</th>\n",
       "      <th>energy</th>\n",
       "      <th>...</th>\n",
       "      <th>instrumentalness</th>\n",
       "      <th>liveness</th>\n",
       "      <th>valence</th>\n",
       "      <th>tempo</th>\n",
       "      <th>time_signature</th>\n",
       "      <th>decade</th>\n",
       "      <th>mood_index</th>\n",
       "      <th>emotion_index</th>\n",
       "      <th>party_index</th>\n",
       "      <th>chill_index</th>\n",
       "    </tr>\n",
       "  </thead>\n",
       "  <tbody>\n",
       "    <tr>\n",
       "      <th>0</th>\n",
       "      <td>35iwgR4jXetI318WEWsa1Q</td>\n",
       "      <td>Carve</td>\n",
       "      <td>6</td>\n",
       "      <td>126903</td>\n",
       "      <td>False</td>\n",
       "      <td>[Uli]</td>\n",
       "      <td>[45tIt06XoI0Iio4LBEVpls]</td>\n",
       "      <td>1922-02-22</td>\n",
       "      <td>0.645</td>\n",
       "      <td>0.445</td>\n",
       "      <td>...</td>\n",
       "      <td>0.744000</td>\n",
       "      <td>0.151</td>\n",
       "      <td>0.127</td>\n",
       "      <td>104.851</td>\n",
       "      <td>3</td>\n",
       "      <td>1920</td>\n",
       "      <td>0.3460</td>\n",
       "      <td>4.1857</td>\n",
       "      <td>0.5450</td>\n",
       "      <td>0.6264</td>\n",
       "    </tr>\n",
       "    <tr>\n",
       "      <th>1</th>\n",
       "      <td>2B9d7LBGJvQEKiLEAexCOP</td>\n",
       "      <td>Toda Alma - Remasterizado</td>\n",
       "      <td>0</td>\n",
       "      <td>180253</td>\n",
       "      <td>False</td>\n",
       "      <td>[Ignacio Corsini]</td>\n",
       "      <td>[5LiOoJbxVSAMkBS2fUm3X2]</td>\n",
       "      <td>1922-03-21</td>\n",
       "      <td>0.545</td>\n",
       "      <td>0.268</td>\n",
       "      <td>...</td>\n",
       "      <td>0.920000</td>\n",
       "      <td>0.112</td>\n",
       "      <td>0.648</td>\n",
       "      <td>126.614</td>\n",
       "      <td>4</td>\n",
       "      <td>1920</td>\n",
       "      <td>0.5411</td>\n",
       "      <td>7.2483</td>\n",
       "      <td>0.4065</td>\n",
       "      <td>0.8898</td>\n",
       "    </tr>\n",
       "    <tr>\n",
       "      <th>2</th>\n",
       "      <td>3fKqEoaJZODF7Xhh7qH4Wv</td>\n",
       "      <td>Capítulo 2.10 - Banquero Anarquista</td>\n",
       "      <td>0</td>\n",
       "      <td>106800</td>\n",
       "      <td>False</td>\n",
       "      <td>[Fernando Pessoa]</td>\n",
       "      <td>[14jtPCOoNZwquk5wd9DxrY]</td>\n",
       "      <td>1922-06-01</td>\n",
       "      <td>0.702</td>\n",
       "      <td>0.200</td>\n",
       "      <td>...</td>\n",
       "      <td>0.000000</td>\n",
       "      <td>0.360</td>\n",
       "      <td>0.773</td>\n",
       "      <td>81.152</td>\n",
       "      <td>4</td>\n",
       "      <td>1920</td>\n",
       "      <td>0.6371</td>\n",
       "      <td>7.2689</td>\n",
       "      <td>0.4510</td>\n",
       "      <td>0.7052</td>\n",
       "    </tr>\n",
       "    <tr>\n",
       "      <th>3</th>\n",
       "      <td>3h8ioTTWfrC25hrHwQQpLc</td>\n",
       "      <td>All Or Nothing at All</td>\n",
       "      <td>0</td>\n",
       "      <td>164320</td>\n",
       "      <td>False</td>\n",
       "      <td>[Dick Haymes, Harry James, His Orchestra]</td>\n",
       "      <td>[3BiJGZsyX9sJchTqcSA7Su, 5MpELOfAiq7aIBTij30ph...</td>\n",
       "      <td>1922</td>\n",
       "      <td>0.237</td>\n",
       "      <td>0.555</td>\n",
       "      <td>...</td>\n",
       "      <td>0.000262</td>\n",
       "      <td>0.366</td>\n",
       "      <td>0.292</td>\n",
       "      <td>92.213</td>\n",
       "      <td>3</td>\n",
       "      <td>1920</td>\n",
       "      <td>0.3281</td>\n",
       "      <td>2.2666</td>\n",
       "      <td>0.3960</td>\n",
       "      <td>0.6652</td>\n",
       "    </tr>\n",
       "    <tr>\n",
       "      <th>4</th>\n",
       "      <td>3rcerSJNOkfgB9CELqcRHL</td>\n",
       "      <td>Capítulo 1.5 - Banquero Anarquista</td>\n",
       "      <td>0</td>\n",
       "      <td>108200</td>\n",
       "      <td>False</td>\n",
       "      <td>[Fernando Pessoa]</td>\n",
       "      <td>[14jtPCOoNZwquk5wd9DxrY]</td>\n",
       "      <td>1922-06-01</td>\n",
       "      <td>0.773</td>\n",
       "      <td>0.155</td>\n",
       "      <td>...</td>\n",
       "      <td>0.000000</td>\n",
       "      <td>0.130</td>\n",
       "      <td>0.494</td>\n",
       "      <td>52.032</td>\n",
       "      <td>4</td>\n",
       "      <td>1920</td>\n",
       "      <td>0.5099</td>\n",
       "      <td>7.6010</td>\n",
       "      <td>0.4640</td>\n",
       "      <td>0.6926</td>\n",
       "    </tr>\n",
       "  </tbody>\n",
       "</table>\n",
       "<p>5 rows × 25 columns</p>\n",
       "</div>"
      ],
      "text/plain": [
       "                       id                                 name  popularity  \\\n",
       "0  35iwgR4jXetI318WEWsa1Q                                Carve           6   \n",
       "1  2B9d7LBGJvQEKiLEAexCOP            Toda Alma - Remasterizado           0   \n",
       "2  3fKqEoaJZODF7Xhh7qH4Wv  Capítulo 2.10 - Banquero Anarquista           0   \n",
       "3  3h8ioTTWfrC25hrHwQQpLc                All Or Nothing at All           0   \n",
       "4  3rcerSJNOkfgB9CELqcRHL   Capítulo 1.5 - Banquero Anarquista           0   \n",
       "\n",
       "   duration_ms  explicit                                    artists  \\\n",
       "0       126903     False                                      [Uli]   \n",
       "1       180253     False                          [Ignacio Corsini]   \n",
       "2       106800     False                          [Fernando Pessoa]   \n",
       "3       164320     False  [Dick Haymes, Harry James, His Orchestra]   \n",
       "4       108200     False                          [Fernando Pessoa]   \n",
       "\n",
       "                                          id_artists release_date  \\\n",
       "0                           [45tIt06XoI0Iio4LBEVpls]   1922-02-22   \n",
       "1                           [5LiOoJbxVSAMkBS2fUm3X2]   1922-03-21   \n",
       "2                           [14jtPCOoNZwquk5wd9DxrY]   1922-06-01   \n",
       "3  [3BiJGZsyX9sJchTqcSA7Su, 5MpELOfAiq7aIBTij30ph...         1922   \n",
       "4                           [14jtPCOoNZwquk5wd9DxrY]   1922-06-01   \n",
       "\n",
       "   danceability  energy  ...  instrumentalness  liveness  valence    tempo  \\\n",
       "0         0.645   0.445  ...          0.744000     0.151    0.127  104.851   \n",
       "1         0.545   0.268  ...          0.920000     0.112    0.648  126.614   \n",
       "2         0.702   0.200  ...          0.000000     0.360    0.773   81.152   \n",
       "3         0.237   0.555  ...          0.000262     0.366    0.292   92.213   \n",
       "4         0.773   0.155  ...          0.000000     0.130    0.494   52.032   \n",
       "\n",
       "   time_signature  decade  mood_index  emotion_index  party_index  chill_index  \n",
       "0               3    1920      0.3460         4.1857       0.5450       0.6264  \n",
       "1               4    1920      0.5411         7.2483       0.4065       0.8898  \n",
       "2               4    1920      0.6371         7.2689       0.4510       0.7052  \n",
       "3               3    1920      0.3281         2.2666       0.3960       0.6652  \n",
       "4               4    1920      0.5099         7.6010       0.4640       0.6926  \n",
       "\n",
       "[5 rows x 25 columns]"
      ]
     },
     "execution_count": 3,
     "metadata": {},
     "output_type": "execute_result"
    }
   ],
   "source": [
    "columns = [\n",
    "    \"id\", \"name\", \"popularity\", \"duration_ms\", \"explicit\", \"artists\", \"id_artists\", \"release_date\",\n",
    "    \"danceability\", \"energy\", \"key\", \"loudness\", \"mode\", \"speechiness\", \"acousticness\", \n",
    "    \"instrumentalness\", \"liveness\", \"valence\", \"tempo\", \"time_signature\",\"decade\", \"mood_index\", \"emotion_index\", \"party_index\", \"chill_index\"\n",
    "]\n",
    "# Create the DataFrame\n",
    "df = pd.DataFrame(tds, columns=columns)\n",
    "#df = df.iloc[:10000]\n",
    "print(df.dtypes)\n",
    "df.head()"
   ]
  },
  {
   "cell_type": "code",
   "execution_count": 4,
   "metadata": {},
   "outputs": [
    {
     "data": {
      "text/html": [
       "<div>\n",
       "<style scoped>\n",
       "    .dataframe tbody tr th:only-of-type {\n",
       "        vertical-align: middle;\n",
       "    }\n",
       "\n",
       "    .dataframe tbody tr th {\n",
       "        vertical-align: top;\n",
       "    }\n",
       "\n",
       "    .dataframe thead th {\n",
       "        text-align: right;\n",
       "    }\n",
       "</style>\n",
       "<table border=\"1\" class=\"dataframe\">\n",
       "  <thead>\n",
       "    <tr style=\"text-align: right;\">\n",
       "      <th></th>\n",
       "      <th>duration_ms</th>\n",
       "      <th>tempo</th>\n",
       "      <th>decade</th>\n",
       "      <th>popularity</th>\n",
       "      <th>key</th>\n",
       "      <th>emotion_index</th>\n",
       "      <th>mode</th>\n",
       "      <th>chill_index</th>\n",
       "    </tr>\n",
       "  </thead>\n",
       "  <tbody>\n",
       "    <tr>\n",
       "      <th>0</th>\n",
       "      <td>126903</td>\n",
       "      <td>104.851</td>\n",
       "      <td>1920</td>\n",
       "      <td>6</td>\n",
       "      <td>0</td>\n",
       "      <td>4.1857</td>\n",
       "      <td>True</td>\n",
       "      <td>0.6264</td>\n",
       "    </tr>\n",
       "    <tr>\n",
       "      <th>1</th>\n",
       "      <td>180253</td>\n",
       "      <td>126.614</td>\n",
       "      <td>1920</td>\n",
       "      <td>0</td>\n",
       "      <td>1</td>\n",
       "      <td>7.2483</td>\n",
       "      <td>True</td>\n",
       "      <td>0.8898</td>\n",
       "    </tr>\n",
       "    <tr>\n",
       "      <th>2</th>\n",
       "      <td>106800</td>\n",
       "      <td>81.152</td>\n",
       "      <td>1920</td>\n",
       "      <td>0</td>\n",
       "      <td>7</td>\n",
       "      <td>7.2689</td>\n",
       "      <td>True</td>\n",
       "      <td>0.7052</td>\n",
       "    </tr>\n",
       "    <tr>\n",
       "      <th>3</th>\n",
       "      <td>164320</td>\n",
       "      <td>92.213</td>\n",
       "      <td>1920</td>\n",
       "      <td>0</td>\n",
       "      <td>2</td>\n",
       "      <td>2.2666</td>\n",
       "      <td>False</td>\n",
       "      <td>0.6652</td>\n",
       "    </tr>\n",
       "    <tr>\n",
       "      <th>4</th>\n",
       "      <td>108200</td>\n",
       "      <td>52.032</td>\n",
       "      <td>1920</td>\n",
       "      <td>0</td>\n",
       "      <td>9</td>\n",
       "      <td>7.6010</td>\n",
       "      <td>False</td>\n",
       "      <td>0.6926</td>\n",
       "    </tr>\n",
       "  </tbody>\n",
       "</table>\n",
       "</div>"
      ],
      "text/plain": [
       "   duration_ms    tempo  decade  popularity  key  emotion_index   mode  \\\n",
       "0       126903  104.851    1920           6    0         4.1857   True   \n",
       "1       180253  126.614    1920           0    1         7.2483   True   \n",
       "2       106800   81.152    1920           0    7         7.2689   True   \n",
       "3       164320   92.213    1920           0    2         2.2666  False   \n",
       "4       108200   52.032    1920           0    9         7.6010  False   \n",
       "\n",
       "   chill_index  \n",
       "0       0.6264  \n",
       "1       0.8898  \n",
       "2       0.7052  \n",
       "3       0.6652  \n",
       "4       0.6926  "
      ]
     },
     "execution_count": 4,
     "metadata": {},
     "output_type": "execute_result"
    }
   ],
   "source": [
    "df_baseline = df[['duration_ms', 'tempo', 'decade', 'popularity', 'key', 'emotion_index', 'mode', 'chill_index']]\n",
    "df_baseline.head()"
   ]
  },
  {
   "cell_type": "code",
   "execution_count": 5,
   "metadata": {},
   "outputs": [],
   "source": [
    "scaler = StandardScaler()\n",
    "df_scaled = scaler.fit_transform(df_baseline)"
   ]
  },
  {
   "cell_type": "code",
   "execution_count": 6,
   "metadata": {},
   "outputs": [
    {
     "data": {
      "text/plain": [
       "4204696"
      ]
     },
     "execution_count": 6,
     "metadata": {},
     "output_type": "execute_result"
    }
   ],
   "source": [
    "df_scaled.size"
   ]
  },
  {
   "cell_type": "code",
   "execution_count": null,
   "metadata": {},
   "outputs": [],
   "source": [
    "from src.utils import distributed_silhouette\n",
    "distributed_silhouette = distributed_silhouette.DistributedSilhouette()\n",
    "\n"
   ]
  },
  {
   "cell_type": "code",
   "execution_count": 12,
   "metadata": {},
   "outputs": [
    {
     "name": "stdout",
     "output_type": "stream",
     "text": [
      "Random Clustering - \n",
      "Silhouette Score: -0.004608494131524032, \n",
      "Davies-Bouldin Index: 491.22270561847176\n"
     ]
    }
   ],
   "source": [
    "dbi_random = davies_bouldin_score(X, random_labels)\n",
    "\n",
    "print(f\"Random Clustering - \\nSilhouette Score: {silhouette_random}, \\nDavies-Bouldin Index: {dbi_random}\")"
   ]
  },
  {
   "cell_type": "code",
   "execution_count": null,
   "metadata": {},
   "outputs": [],
   "source": [
    "import numpy as np\n",
    "from sklearn.metrics import silhouette_score, davies_bouldin_score\n",
    "\n",
    "X= df_scaled\n",
    "# Assume X is your dataset\n",
    "n_clusters = 8  # or any number of clusters you're using for KMeans\n",
    "random_labels = np.random.randint(0, n_clusters, size=len(X))\n",
    "\n",
    "# Evaluate random clustering\n",
    "partitions, label_partitions = distributed_silhouette.split_data(df_scaled, random_labels)\n",
    "\n",
    "silhouette_random = distributed_silhouette.compute_fast_silhouette(partitions, label_partitions)\n",
    "\n",
    "dbi_random = davies_bouldin_score(X, random_labels)\n",
    "\n",
    "print(f\"Random Clustering - \\nSilhouette Score: {silhouette_random}, \\nDavies-Bouldin Index: {dbi_random}\")\n"
   ]
  },
  {
   "cell_type": "markdown",
   "metadata": {},
   "source": [
    "Random Clustering - \n",
    "\n",
    "Silhouette Score: -0.004608494131524032\n",
    "\n",
    "Davies-Bouldin Index: 491.22270561847176"
   ]
  },
  {
   "cell_type": "markdown",
   "metadata": {},
   "source": [
    "GMM - Gaussian Mixture Model"
   ]
  },
  {
   "cell_type": "code",
   "execution_count": null,
   "metadata": {},
   "outputs": [
    {
     "name": "stdout",
     "output_type": "stream",
     "text": [
      "Setting up the droplet clones...\n",
      "We are ready to compute the score in parallel!\n",
      "Calculating...\n",
      "Done! Cleaning up droplets...\n",
      "Destroyed droplet: silhouette-clone-0\n",
      "Destroyed droplet: silhouette-clone-1\n",
      "Destroyed droplet: silhouette-clone-2\n",
      "Destroyed droplet: silhouette-clone-3\n",
      "Destroyed droplet: silhouette-clone-4\n",
      "Destroyed droplet: silhouette-clone-5\n",
      "Destroyed droplet: silhouette-clone-6\n",
      "Destroyed droplet: silhouette-clone-7\n",
      "Destroyed droplet: silhouette-clone-8\n",
      "Destroyed droplet: silhouette-clone-9\n",
      "Droplets destroyed, you are safe to terminate your code!\n",
      "Random Clustering - \n",
      "Silhouette Score: 0.08833424194399461, \n",
      "Davies-Bouldin Index: 491.22270561847176\n"
     ]
    }
   ],
   "source": [
    "from sklearn.mixture import GaussianMixture\n",
    "\n",
    "gmm = GaussianMixture(n_components=8, random_state=42)\n",
    "labels_gmm = gmm.fit_predict(X)\n",
    "\n",
    "partitions, label_partitions = distributed_silhouette.split_data(X, labels_gmm)\n",
    "silhouette_gmm = distributed_silhouette.compute_fast_silhouette(partitions, label_partitions)\n",
    "dbi_gmm = davies_bouldin_score(X, labels_gmm)\n",
    "print(f\"Random Clustering - \\nSilhouette Score: {silhouette_gmm}, \\nDavies-Bouldin Index: {dbi_gmm}\")\n",
    "\n"
   ]
  },
  {
   "cell_type": "markdown",
   "metadata": {},
   "source": [
    "Gaussian Mixture Model - \n",
    "\n",
    "\n",
    "Silhouette Score: 0.08833424194399461\n",
    "\n",
    "\n",
    "Davies-Bouldin Index: 2.0470611600249145"
   ]
  },
  {
   "cell_type": "markdown",
   "metadata": {},
   "source": [
    "Null Model (Permutation Test)"
   ]
  },
  {
   "cell_type": "code",
   "execution_count": null,
   "metadata": {},
   "outputs": [
    {
     "name": "stdout",
     "output_type": "stream",
     "text": [
      "Setting up the droplet clones...\n",
      "We are ready to compute the score in parallel!\n",
      "Calculating...\n",
      "Done! Cleaning up droplets...\n",
      "Destroyed droplet: silhouette-clone-0\n",
      "Destroyed droplet: silhouette-clone-1\n",
      "Destroyed droplet: silhouette-clone-2\n",
      "Destroyed droplet: silhouette-clone-3\n",
      "Destroyed droplet: silhouette-clone-4\n",
      "Destroyed droplet: silhouette-clone-5\n",
      "Destroyed droplet: silhouette-clone-6\n",
      "Destroyed droplet: silhouette-clone-7\n",
      "Destroyed droplet: silhouette-clone-8\n",
      "Destroyed droplet: silhouette-clone-9\n",
      "Droplets destroyed, you are safe to terminate your code!\n",
      "Random Clustering - \n",
      "Silhouette Score: -0.005457596000588488, \n",
      "Davies-Bouldin Index: 491.22270561847176\n"
     ]
    }
   ],
   "source": [
    "X_permuted = np.random.permutation(X)\n",
    "kmeans_perm = KMeans(n_clusters=8, random_state=42)\n",
    "labels_perm = kmeans_perm.fit_predict(X_permuted)\n",
    "\n",
    "partitions, label_partitions = distributed_silhouette.split_data(X, labels_perm)\n",
    "silhouette_perm = distributed_silhouette.compute_fast_silhouette(partitions, label_partitions)\n",
    "dbi_perm = davies_bouldin_score(X, labels_perm)\n",
    "print(f\"Random Clustering - \\nSilhouette Score: {silhouette_perm}, \\nDavies-Bouldin Index: {dbi_perm}\")\n"
   ]
  },
  {
   "cell_type": "markdown",
   "metadata": {},
   "source": [
    "Null Model - \n",
    "\n",
    "Silhouette Score: -0.005457596000588488, \n",
    "\n",
    "Davies-Bouldin Index: 587.1649645919061"
   ]
  },
  {
   "cell_type": "code",
   "execution_count": null,
   "metadata": {},
   "outputs": [],
   "source": []
  }
 ],
 "metadata": {
  "kernelspec": {
   "display_name": ".venv",
   "language": "python",
   "name": "python3"
  },
  "language_info": {
   "codemirror_mode": {
    "name": "ipython",
    "version": 3
   },
   "file_extension": ".py",
   "mimetype": "text/x-python",
   "name": "python",
   "nbconvert_exporter": "python",
   "pygments_lexer": "ipython3",
   "version": "3.10.8"
  }
 },
 "nbformat": 4,
 "nbformat_minor": 2
}
