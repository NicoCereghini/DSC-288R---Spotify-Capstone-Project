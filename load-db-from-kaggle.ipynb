{
 "cells": [
  {
   "cell_type": "code",
   "execution_count": 5,
   "metadata": {},
   "outputs": [
    {
     "data": {
      "text/plain": [
       "'\\nColumn names in the CSV file:\\n1. id - string\\n2. name - string\\n3. popularity - int\\n4. duration_ms - int\\n5. explicit - int (boolean)\\n6. artists - array of strings\\n7. id_artists - array of strings\\n8. release_date - date or string? Can be a date or just a year value\\n9. danceability - double\\n10. energy - double\\n11. key - int\\n12. loudness - double\\n13. mode - int (boolean)\\n14. speechiness - double\\n15. acousticness - double\\n16. instrumentalness - double\\n17. liveness - double\\n18. valence - double\\n19. tempo - double\\n20. time_signature - int\\n'"
      ]
     },
     "execution_count": 5,
     "metadata": {},
     "output_type": "execute_result"
    }
   ],
   "source": [
    "'''\n",
    "Column names in the CSV file:\n",
    "1. id - string\n",
    "2. name - string\n",
    "3. popularity - int\n",
    "4. duration_ms - int\n",
    "5. explicit - int (boolean)\n",
    "6. artists - array of strings\n",
    "7. id_artists - array of strings\n",
    "8. release_date - date or string? Can be a date or just a year value\n",
    "9. danceability - double\n",
    "10. energy - double\n",
    "11. key - int\n",
    "12. loudness - double\n",
    "13. mode - int (boolean)\n",
    "14. speechiness - double\n",
    "15. acousticness - double\n",
    "16. instrumentalness - double\n",
    "17. liveness - double\n",
    "18. valence - double\n",
    "19. tempo - double\n",
    "20. time_signature - int\n",
    "'''"
   ]
  },
  {
   "cell_type": "code",
   "execution_count": null,
   "metadata": {},
   "outputs": [
    {
     "name": "stdout",
     "output_type": "stream",
     "text": [
      "id                   object\n",
      "name                 object\n",
      "popularity            int64\n",
      "duration_ms           int64\n",
      "explicit              int64\n",
      "artists              object\n",
      "id_artists           object\n",
      "release_date         object\n",
      "danceability        float64\n",
      "energy              float64\n",
      "key                   int64\n",
      "loudness            float64\n",
      "mode                  int64\n",
      "speechiness         float64\n",
      "acousticness        float64\n",
      "instrumentalness    float64\n",
      "liveness            float64\n",
      "valence             float64\n",
      "tempo               float64\n",
      "time_signature        int64\n",
      "dtype: object\n"
     ]
    }
   ],
   "source": [
    "#import psycopg2\n",
    "import pandas as pd\n",
    "\n",
    "# conn = psycopg2.connect(\"host=ucsd-postgresql-sfo2-do-user-18847016-0.m.db.ondigitalocean.com port=25060 dbname=spotify_dataset user=doadmin password=AVNS_kLeTuGCSss8LYr4Ocrp sslmode=require\") \n",
    "# cursor = conn.cursor()\n",
    "\n",
    "# Before, I used the Kaggle API to download the dataset. Now, I will use the CSV file that I downloaded from Kaggle. \n",
    "path = \"C:kaggle_api_saved_path\\\\tracks.csv\"\n",
    "df = pd.read_csv(path)\n",
    "print(df.dtypes)\n"
   ]
  },
  {
   "cell_type": "code",
   "execution_count": 3,
   "metadata": {},
   "outputs": [],
   "source": [
    "import ast\n",
    "\n",
    "df['id'] = df['id'].astype(str)\n",
    "df['name'] = df['name'].astype(str)\n",
    "df['popularity'] = df['popularity'].astype(int)\n",
    "df['duration_ms'] = df['duration_ms'].astype(int)\n",
    "df['explicit'] = df['explicit'].astype(bool)  # Convert 0/1 to boolean\n",
    "df['artists'] = df['artists'].apply(ast.literal_eval).apply(lambda x: list(map(str, x)) if isinstance(x, list) else [])\n",
    "df['id_artists'] = df['id_artists'].apply(ast.literal_eval).apply(lambda x: list(map(str, x)) if isinstance(x, list) else [])\n",
    "df['release_date'] = df['release_date'].astype(str)  # Leave as TEXT for flexibility\n",
    "df['danceability'] = df['danceability'].astype(float)\n",
    "df['energy'] = df['energy'].astype(float)\n",
    "df['key'] = df['key'].astype(int)\n",
    "df['loudness'] = df['loudness'].astype(float)\n",
    "df['mode'] = df['mode'].astype(bool)  # Convert 0/1 to boolean\n",
    "df['speechiness'] = df['speechiness'].astype(float)\n",
    "df['acousticness'] = df['acousticness'].astype(float)\n",
    "df['instrumentalness'] = df['instrumentalness'].astype(float)\n",
    "df['liveness'] = df['liveness'].astype(float)\n",
    "df['valence'] = df['valence'].astype(float)\n",
    "df['tempo'] = df['tempo'].astype(float)\n",
    "df['time_signature'] = df['time_signature'].astype(int)"
   ]
  },
  {
   "cell_type": "code",
   "execution_count": 4,
   "metadata": {},
   "outputs": [],
   "source": [
    "def fix_array_format(df, column_name):\n",
    "    \"\"\"\n",
    "    Converts a column with array-like strings to PostgreSQL-compliant array literals.\n",
    "\n",
    "    Args:\n",
    "        df (pd.DataFrame): The DataFrame containing the column.\n",
    "        column_name (str): The name of the column to fix.\n",
    "\n",
    "    Returns:\n",
    "        pd.DataFrame: The modified DataFrame.\n",
    "    \"\"\"\n",
    "    def to_postgres_array(value):\n",
    "        if value in (None, '', pd.NA):  # Handle null or empty values explicitly\n",
    "            return '{}'\n",
    "        try:\n",
    "            # Ensure the value is a Python list\n",
    "            if isinstance(value, str):\n",
    "                # Parse string to list\n",
    "                value = ast.literal_eval(value)\n",
    "            if isinstance(value, list):\n",
    "                # Convert list to PostgreSQL array literal\n",
    "                return '{' + ','.join(['\"' + str(x).replace('\"', '\\\\\"') + '\"' for x in value]) + '}'\n",
    "            else:\n",
    "                return '{}'\n",
    "        except (ValueError, SyntaxError):\n",
    "            return '{}'  # Default to an empty array for malformed data\n",
    "\n",
    "    # Apply the transformation to the specified column\n",
    "    df[column_name] = df[column_name].apply(to_postgres_array)\n",
    "    return df"
   ]
  },
  {
   "cell_type": "code",
   "execution_count": 5,
   "metadata": {},
   "outputs": [],
   "source": [
    "df = fix_array_format(df, 'artists')\n",
    "df = fix_array_format(df, 'id_artists')"
   ]
  },
  {
   "cell_type": "code",
   "execution_count": 6,
   "metadata": {},
   "outputs": [],
   "source": [
    "def fix_encoding_issues(text):\n",
    "    \"\"\"\n",
    "    Fixes misencoded text by detecting and re-decoding UTF-8 bytes\n",
    "    misinterpreted as WIN1252.\n",
    "    \n",
    "    Args:\n",
    "        text (str): The input text.\n",
    "        \n",
    "    Returns:\n",
    "        str: The corrected text.\n",
    "    \"\"\"\n",
    "    if not isinstance(text, str):\n",
    "        return text  # Ignore non-string values\n",
    "    try:\n",
    "        # Encode the text as WIN1252 bytes, then decode as UTF-8\n",
    "        return text.encode('windows-1252').decode('utf-8')\n",
    "    except (UnicodeEncodeError, UnicodeDecodeError):\n",
    "        return text  # Return the original text if decoding fails\n",
    "\n",
    "# Apply to a DataFrame column\n",
    "df['artists'] = df['artists'].apply(fix_encoding_issues)\n",
    "df['id_artists'] = df['id_artists'].apply(fix_encoding_issues)"
   ]
  },
  {
   "cell_type": "code",
   "execution_count": 9,
   "metadata": {},
   "outputs": [
    {
     "name": "stdout",
     "output_type": "stream",
     "text": [
      "Transformed DataFrame has been saved to: C:\\Users\\pcere\\Downloads\\transformed_tracks.csv\n"
     ]
    }
   ],
   "source": [
    "output_path = \"C:\\\\Users\\\\pcere\\\\Downloads\\\\transformed_tracks.csv\"\n",
    "df.to_csv(output_path, index=False, encoding=\"utf-8-sig\")\n",
    "print(f\"Transformed DataFrame has been saved to: {output_path}\")"
   ]
  }
 ],
 "metadata": {
  "kernelspec": {
   "display_name": ".venv",
   "language": "python",
   "name": "python3"
  },
  "language_info": {
   "codemirror_mode": {
    "name": "ipython",
    "version": 3
   },
   "file_extension": ".py",
   "mimetype": "text/x-python",
   "name": "python",
   "nbconvert_exporter": "python",
   "pygments_lexer": "ipython3",
   "version": "3.10.8"
  }
 },
 "nbformat": 4,
 "nbformat_minor": 2
}
